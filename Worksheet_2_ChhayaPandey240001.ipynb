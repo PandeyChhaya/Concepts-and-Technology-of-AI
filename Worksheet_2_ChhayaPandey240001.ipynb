{
  "nbformat": 4,
  "nbformat_minor": 0,
  "metadata": {
    "colab": {
      "provenance": [],
      "authorship_tag": "ABX9TyM2yE0qeQEpDWGMrradcV6S",
      "include_colab_link": true
    },
    "kernelspec": {
      "name": "python3",
      "display_name": "Python 3"
    },
    "language_info": {
      "name": "python"
    }
  },
  "cells": [
    {
      "cell_type": "markdown",
      "metadata": {
        "id": "view-in-github",
        "colab_type": "text"
      },
      "source": [
        "<a href=\"https://colab.research.google.com/github/PandeyChhaya/Concepts-and-Technology-of-AI/blob/main/Worksheet_2_ChhayaPandey240001.ipynb\" target=\"_parent\"><img src=\"https://colab.research.google.com/assets/colab-badge.svg\" alt=\"Open In Colab\"/></a>"
      ]
    },
    {
      "cell_type": "markdown",
      "source": [
        "Dataset for the Task: \"bank.csv\"\n",
        "\n",
        "    1. Load the provided dataset and import in pandas DataFrame.\n",
        "    2. Check info of the DataFrame and identify following: (a) columns with dtypes=object (b) unique values of those columns. (c) check for the total number of null values in each column.\n",
        "    3. Drop all the columns with dtypes object and store in new DataFrame, also write the DataFrame in ”.csv” with name ”banknumericdata.csv”\n",
        "    4. Read ”banknumericdata.csv” and Find the summary statistics.\n"
      ],
      "metadata": {
        "id": "wVulPVgGXSPF"
      }
    },
    {
      "cell_type": "code",
      "source": [
        "#Name: Chhaya Pandey\n",
        "#ID: 240001\n",
        "from google.colab import drive\n",
        "drive.mount('/content/drive')\n",
        "import pandas as pd\n",
        "\n",
        "df = pd.read_csv(\"/content/drive/MyDrive/Concepts and Technology of AI/bank.csv\")\n",
        "print(df.head())"
      ],
      "metadata": {
        "colab": {
          "base_uri": "https://localhost:8080/"
        },
        "id": "JocYZh-NXb9H",
        "outputId": "e157d8d8-5136-4b1f-b384-62b581021bff"
      },
      "execution_count": null,
      "outputs": [
        {
          "output_type": "stream",
          "name": "stdout",
          "text": [
            "Mounted at /content/drive\n",
            "   age           job  marital  education default  balance housing loan  \\\n",
            "0   58    management  married   tertiary      no     2143     yes   no   \n",
            "1   44    technician   single  secondary      no       29     yes   no   \n",
            "2   33  entrepreneur  married  secondary      no        2     yes  yes   \n",
            "3   47   blue-collar  married    unknown      no     1506     yes   no   \n",
            "4   33       unknown   single    unknown      no        1      no   no   \n",
            "\n",
            "   contact  day month  duration  campaign  pdays  previous poutcome   y  \n",
            "0  unknown    5   may       261         1     -1         0  unknown  no  \n",
            "1  unknown    5   may       151         1     -1         0  unknown  no  \n",
            "2  unknown    5   may        76         1     -1         0  unknown  no  \n",
            "3  unknown    5   may        92         1     -1         0  unknown  no  \n",
            "4  unknown    5   may       198         1     -1         0  unknown  no  \n"
          ]
        }
      ]
    },
    {
      "cell_type": "code",
      "source": [
        "#Name:Chhaya Pandey\n",
        "#ID:240001\n",
        "\n",
        "object_columns = df.select_dtypes(include=['object']).columns\n",
        "print(\"Columns with dtype=object:\", object_columns)\n",
        "\n",
        "\n",
        "\n",
        "\n"
      ],
      "metadata": {
        "colab": {
          "base_uri": "https://localhost:8080/"
        },
        "id": "D6KGmki0icLM",
        "outputId": "0b4edfe9-3ed3-48bc-ccab-3663b569ba6d"
      },
      "execution_count": null,
      "outputs": [
        {
          "output_type": "stream",
          "name": "stdout",
          "text": [
            "Columns with dtype=object: Index(['job', 'marital', 'education', 'default', 'housing', 'loan', 'contact',\n",
            "       'month', 'poutcome', 'y'],\n",
            "      dtype='object')\n"
          ]
        }
      ]
    },
    {
      "cell_type": "code",
      "source": [
        "#Name:Chhaya Pandey\n",
        "#ID:240001\n",
        "\n",
        "for col in object_columns:\n",
        "    unique_values = df[col].unique()\n",
        "    print(f\"Unique values in column '{col}':\")\n",
        "    print(unique_values)\n",
        "    print()\n"
      ],
      "metadata": {
        "colab": {
          "base_uri": "https://localhost:8080/"
        },
        "id": "FjHsPKljlJ6d",
        "outputId": "7d9e049f-2681-4d9a-d1cf-08d5a4718502"
      },
      "execution_count": null,
      "outputs": [
        {
          "output_type": "stream",
          "name": "stdout",
          "text": [
            "Unique values in column 'job':\n",
            "['management' 'technician' 'entrepreneur' 'blue-collar' 'unknown'\n",
            " 'retired' 'admin.' 'services' 'self-employed' 'unemployed' 'housemaid'\n",
            " 'student']\n",
            "\n",
            "Unique values in column 'marital':\n",
            "['married' 'single' 'divorced']\n",
            "\n",
            "Unique values in column 'education':\n",
            "['tertiary' 'secondary' 'unknown' 'primary']\n",
            "\n",
            "Unique values in column 'default':\n",
            "['no' 'yes']\n",
            "\n",
            "Unique values in column 'housing':\n",
            "['yes' 'no']\n",
            "\n",
            "Unique values in column 'loan':\n",
            "['no' 'yes']\n",
            "\n",
            "Unique values in column 'contact':\n",
            "['unknown' 'cellular' 'telephone']\n",
            "\n",
            "Unique values in column 'month':\n",
            "['may' 'jun' 'jul' 'aug' 'oct' 'nov' 'dec' 'jan' 'feb' 'mar' 'apr' 'sep']\n",
            "\n",
            "Unique values in column 'poutcome':\n",
            "['unknown' 'failure' 'other' 'success']\n",
            "\n",
            "Unique values in column 'y':\n",
            "['no' 'yes']\n",
            "\n"
          ]
        }
      ]
    },
    {
      "cell_type": "code",
      "source": [
        "#Name:Chhaya Pandey\n",
        "#ID:240001\n",
        "null_values = df.isnull().sum()\n",
        "print(\"Null values in each column:\\n\", null_values)"
      ],
      "metadata": {
        "colab": {
          "base_uri": "https://localhost:8080/"
        },
        "id": "qBsrEgQIlQoJ",
        "outputId": "df15d7a7-6154-4352-d564-2371f16dd0f0"
      },
      "execution_count": null,
      "outputs": [
        {
          "output_type": "stream",
          "name": "stdout",
          "text": [
            "Null values in each column:\n",
            " age          0\n",
            "job          0\n",
            "marital      0\n",
            "education    0\n",
            "default      0\n",
            "balance      0\n",
            "housing      0\n",
            "loan         0\n",
            "contact      0\n",
            "day          0\n",
            "month        0\n",
            "duration     0\n",
            "campaign     0\n",
            "pdays        0\n",
            "previous     0\n",
            "poutcome     0\n",
            "y            0\n",
            "dtype: int64\n"
          ]
        }
      ]
    },
    {
      "cell_type": "code",
      "source": [
        "#Name:Chhaya Pandey\n",
        "#ID:240001\n",
        "\n",
        "df_numeric = df.drop(columns=object_columns)\n",
        "\n",
        "df_numeric.to_csv(\"banknumericdata.csv\", index=False)\n",
        "\n",
        "print(\"Numeric DataFrame saved as 'banknumericdata.csv'\")"
      ],
      "metadata": {
        "colab": {
          "base_uri": "https://localhost:8080/"
        },
        "id": "VKqPXzAqlXLr",
        "outputId": "f5fab290-9c2f-4968-c3ad-58b896f23124"
      },
      "execution_count": null,
      "outputs": [
        {
          "output_type": "stream",
          "name": "stdout",
          "text": [
            "Numeric DataFrame saved as 'banknumericdata.csv'\n"
          ]
        }
      ]
    },
    {
      "cell_type": "code",
      "source": [
        "#Name:Chhaya Pandey\n",
        "#ID:240001\n",
        "\n",
        "df_numeric_read = pd.read_csv(\"banknumericdata.csv\")\n",
        "\n",
        "summary_stats = df_numeric_read.describe()\n",
        "print(\"Summary statistics:\\n\", summary_stats)"
      ],
      "metadata": {
        "colab": {
          "base_uri": "https://localhost:8080/"
        },
        "id": "CrJIQyFeleCY",
        "outputId": "c2d570c8-32df-47b3-e54c-a969b481abd9"
      },
      "execution_count": null,
      "outputs": [
        {
          "output_type": "stream",
          "name": "stdout",
          "text": [
            "Summary statistics:\n",
            "                 age        balance           day      duration      campaign  \\\n",
            "count  45211.000000   45211.000000  45211.000000  45211.000000  45211.000000   \n",
            "mean      40.936210    1362.272058     15.806419    258.163080      2.763841   \n",
            "std       10.618762    3044.765829      8.322476    257.527812      3.098021   \n",
            "min       18.000000   -8019.000000      1.000000      0.000000      1.000000   \n",
            "25%       33.000000      72.000000      8.000000    103.000000      1.000000   \n",
            "50%       39.000000     448.000000     16.000000    180.000000      2.000000   \n",
            "75%       48.000000    1428.000000     21.000000    319.000000      3.000000   \n",
            "max       95.000000  102127.000000     31.000000   4918.000000     63.000000   \n",
            "\n",
            "              pdays      previous  \n",
            "count  45211.000000  45211.000000  \n",
            "mean      40.197828      0.580323  \n",
            "std      100.128746      2.303441  \n",
            "min       -1.000000      0.000000  \n",
            "25%       -1.000000      0.000000  \n",
            "50%       -1.000000      0.000000  \n",
            "75%       -1.000000      0.000000  \n",
            "max      871.000000    275.000000  \n"
          ]
        }
      ]
    },
    {
      "cell_type": "markdown",
      "source": [
        "\n",
        "\n",
        "Problem 2 - Data Imputations: Complete all the following Task: • Dataset for the Task: \"medical_student.csv\"\n",
        "\n",
        "    1. Load the provided dataset and import in pandas DataFrame.\n",
        "    2. Check info of the DataFrame and identify column with missing (null) values.\n",
        "    3. For the column with missing values fill the values using various techniques we discussed above. Try to explain why did you select the particular methods for particular column.\n",
        "    4. Check for any duplicate values present in Dataset and do necessary to manage the duplicate items. {Hint: dataset.duplicated.sum()}\n",
        "\n"
      ],
      "metadata": {
        "id": "MZKYmw1sllbH"
      }
    },
    {
      "cell_type": "code",
      "source": [
        "file= pd.read_csv(\"/content/drive/MyDrive/Concepts and Technology of AI/medicaStudentDataset.csv\")\n",
        "print(file.head())"
      ],
      "metadata": {
        "colab": {
          "base_uri": "https://localhost:8080/"
        },
        "id": "TwzsVoI9lsdD",
        "outputId": "44bb08d4-7bb8-4c58-d4ab-b452d5e1854d"
      },
      "execution_count": null,
      "outputs": [
        {
          "output_type": "stream",
          "name": "stdout",
          "text": [
            "   Student ID   Age  Gender      Height     Weight Blood Type        BMI  \\\n",
            "0         1.0  18.0  Female  161.777924  72.354947          O  27.645835   \n",
            "1         2.0   NaN    Male  152.069157  47.630941          B        NaN   \n",
            "2         3.0  32.0  Female  182.537664  55.741083          A  16.729017   \n",
            "3         NaN  30.0    Male  182.112867  63.332207          B  19.096042   \n",
            "4         5.0  23.0  Female         NaN  46.234173          O        NaN   \n",
            "\n",
            "   Temperature  Heart Rate  Blood Pressure  Cholesterol Diabetes Smoking  \n",
            "0          NaN        95.0           109.0        203.0       No     NaN  \n",
            "1    98.714977        93.0           104.0        163.0       No      No  \n",
            "2    98.260293        76.0           130.0        216.0      Yes      No  \n",
            "3    98.839605        99.0           112.0        141.0       No     Yes  \n",
            "4    98.480008        95.0             NaN        231.0       No      No  \n"
          ]
        }
      ]
    },
    {
      "cell_type": "code",
      "source": [
        "\n",
        "print(df.info())\n",
        "\n",
        "missing_values = df.isnull().sum()\n",
        "missing_columns = missing_values[missing_values > 0]\n",
        "print(\"Columns with missing values:\\n\", missing_columns)\n"
      ],
      "metadata": {
        "colab": {
          "base_uri": "https://localhost:8080/"
        },
        "id": "ahNTWOUOm9n-",
        "outputId": "5e0754a2-dd82-48b2-cd69-030efaa46b2d"
      },
      "execution_count": null,
      "outputs": [
        {
          "output_type": "stream",
          "name": "stdout",
          "text": [
            "<class 'pandas.core.frame.DataFrame'>\n",
            "RangeIndex: 45211 entries, 0 to 45210\n",
            "Data columns (total 17 columns):\n",
            " #   Column     Non-Null Count  Dtype \n",
            "---  ------     --------------  ----- \n",
            " 0   age        45211 non-null  int64 \n",
            " 1   job        45211 non-null  object\n",
            " 2   marital    45211 non-null  object\n",
            " 3   education  45211 non-null  object\n",
            " 4   default    45211 non-null  object\n",
            " 5   balance    45211 non-null  int64 \n",
            " 6   housing    45211 non-null  object\n",
            " 7   loan       45211 non-null  object\n",
            " 8   contact    45211 non-null  object\n",
            " 9   day        45211 non-null  int64 \n",
            " 10  month      45211 non-null  object\n",
            " 11  duration   45211 non-null  int64 \n",
            " 12  campaign   45211 non-null  int64 \n",
            " 13  pdays      45211 non-null  int64 \n",
            " 14  previous   45211 non-null  int64 \n",
            " 15  poutcome   45211 non-null  object\n",
            " 16  y          45211 non-null  object\n",
            "dtypes: int64(7), object(10)\n",
            "memory usage: 5.9+ MB\n",
            "None\n",
            "Columns with missing values:\n",
            " Series([], dtype: int64)\n"
          ]
        }
      ]
    },
    {
      "cell_type": "code",
      "source": [
        "#Name:Chhaya Pandey\n",
        "#ID:240001\n",
        "for col in missing_columns.index:\n",
        "    if df[col].dtype in ['int64', 'float64']:\n",
        "\n",
        "        df[col].fillna(df[col].mean(), inplace=True)\n",
        "        print(f\"Filled missing values in '{col}' using mean: {df[col].mean()}\")\n",
        "    elif df[col].dtype == 'object':\n",
        "\n",
        "        df[col].fillna(df[col].mode()[0], inplace=True)\n",
        "        print(f\"Filled missing values in '{col}' using mode: {df[col].mode()[0]}\")\n"
      ],
      "metadata": {
        "id": "w0UQ9ri-nCwm"
      },
      "execution_count": null,
      "outputs": []
    },
    {
      "cell_type": "code",
      "source": [
        "#Name:Chhaya Pandey\n",
        "#ID:240001\n",
        "duplicate_count = df.duplicated().sum()\n",
        "print(f\"Number of duplicate rows: {duplicate_count}\")\n",
        "\n",
        "if duplicate_count > 0:\n",
        "    df.drop_duplicates(inplace=True)\n",
        "    print(f\"Removed {duplicate_count} duplicate rows.\")\n",
        "else:\n",
        "    print(\"No duplicate rows found.\")"
      ],
      "metadata": {
        "colab": {
          "base_uri": "https://localhost:8080/"
        },
        "id": "Cu_gAdv9nRWe",
        "outputId": "6e6a9bea-01d5-4b20-b422-5ac2940cbd88"
      },
      "execution_count": null,
      "outputs": [
        {
          "output_type": "stream",
          "name": "stdout",
          "text": [
            "Number of duplicate rows: 0\n",
            "No duplicate rows found.\n"
          ]
        }
      ]
    },
    {
      "cell_type": "markdown",
      "source": [
        "3.2 Exercises -\n",
        "Data Cleaning and Transformations with ”Titanic Dataset”: Dataset Used: \"titanic.csv\"\n",
        "\n",
        "Problem - 1:\n",
        "\n",
        "Create a DataFrame that is subsetted for the columns ’Name’, ’Pclass’, ’Sex’, ’Age’, ’Fare’, and ’Survived’. Retain only those rows where ’Pclass’ is equal to 1, representing first-class passengers. What is the mean, median, maximum value, and minimum value of the ’Fare’ column?"
      ],
      "metadata": {
        "id": "Gqo-a1vjnpel"
      }
    },
    {
      "cell_type": "code",
      "source": [
        "import pandas as pd\n",
        "\n",
        "file3= pd.read_csv(\"/content/drive/MyDrive/Concepts and Technology of AI/Titanic-Dataset.csv\")\n",
        "print(file3.head())"
      ],
      "metadata": {
        "colab": {
          "base_uri": "https://localhost:8080/"
        },
        "id": "iWorezN5nshW",
        "outputId": "abb330af-a94a-48db-9536-4464cdcccad3"
      },
      "execution_count": null,
      "outputs": [
        {
          "output_type": "stream",
          "name": "stdout",
          "text": [
            "   PassengerId  Survived  Pclass  \\\n",
            "0            1         0       3   \n",
            "1            2         1       1   \n",
            "2            3         1       3   \n",
            "3            4         1       1   \n",
            "4            5         0       3   \n",
            "\n",
            "                                                Name     Sex   Age  SibSp  \\\n",
            "0                            Braund, Mr. Owen Harris    male  22.0      1   \n",
            "1  Cumings, Mrs. John Bradley (Florence Briggs Th...  female  38.0      1   \n",
            "2                             Heikkinen, Miss. Laina  female  26.0      0   \n",
            "3       Futrelle, Mrs. Jacques Heath (Lily May Peel)  female  35.0      1   \n",
            "4                           Allen, Mr. William Henry    male  35.0      0   \n",
            "\n",
            "   Parch            Ticket     Fare Cabin Embarked  \n",
            "0      0         A/5 21171   7.2500   NaN        S  \n",
            "1      0          PC 17599  71.2833   C85        C  \n",
            "2      0  STON/O2. 3101282   7.9250   NaN        S  \n",
            "3      0            113803  53.1000  C123        S  \n",
            "4      0            373450   8.0500   NaN        S  \n"
          ]
        }
      ]
    },
    {
      "cell_type": "code",
      "source": [
        "\n",
        "#Name:Chhaya Pandey\n",
        "#ID:240001\n",
        "columns = ['Name', 'Pclass', 'Sex', 'Age', 'Fare', 'Survived']\n",
        "subset_file3 = file3[columns]\n",
        "\n",
        "print(subset_file3.head())\n"
      ],
      "metadata": {
        "colab": {
          "base_uri": "https://localhost:8080/"
        },
        "id": "w-uWeBGDoUqr",
        "outputId": "906e52bf-daf6-4b5d-9a88-e54fe24d4275"
      },
      "execution_count": null,
      "outputs": [
        {
          "output_type": "stream",
          "name": "stdout",
          "text": [
            "                                                Name  Pclass     Sex   Age  \\\n",
            "0                            Braund, Mr. Owen Harris       3    male  22.0   \n",
            "1  Cumings, Mrs. John Bradley (Florence Briggs Th...       1  female  38.0   \n",
            "2                             Heikkinen, Miss. Laina       3  female  26.0   \n",
            "3       Futrelle, Mrs. Jacques Heath (Lily May Peel)       1  female  35.0   \n",
            "4                           Allen, Mr. William Henry       3    male  35.0   \n",
            "\n",
            "      Fare  Survived  \n",
            "0   7.2500         0  \n",
            "1  71.2833         1  \n",
            "2   7.9250         1  \n",
            "3  53.1000         1  \n",
            "4   8.0500         0  \n"
          ]
        }
      ]
    },
    {
      "cell_type": "code",
      "source": [
        "#Name:Chhaya Pandey\n",
        "#ID:240001\n",
        "\n",
        "first_class_file3 = subset_file3[subset_file3['Pclass'] == 1]\n",
        "\n",
        "\n",
        "print(first_class_file3.head())\n",
        "\n",
        "fare_mean = first_class_file3['Fare'].mean()\n",
        "fare_median = first_class_file3['Fare'].median()\n",
        "fare_max = first_class_file3['Fare'].max()\n",
        "fare_min = first_class_file3['Fare'].min()\n",
        "\n",
        "print(f\"Mean Fare: {fare_mean}\")\n",
        "print(f\"Median Fare: {fare_median}\")\n",
        "print(f\"Maximum Fare: {fare_max}\")\n",
        "print(f\"Minimum Fare: {fare_min}\")"
      ],
      "metadata": {
        "colab": {
          "base_uri": "https://localhost:8080/"
        },
        "id": "gxW1moJ1lxqS",
        "outputId": "ffe61129-d9e3-4071-d66d-51056d7d3e29"
      },
      "execution_count": null,
      "outputs": [
        {
          "output_type": "stream",
          "name": "stdout",
          "text": [
            "                                                 Name  Pclass     Sex   Age  \\\n",
            "1   Cumings, Mrs. John Bradley (Florence Briggs Th...       1  female  38.0   \n",
            "3        Futrelle, Mrs. Jacques Heath (Lily May Peel)       1  female  35.0   \n",
            "6                             McCarthy, Mr. Timothy J       1    male  54.0   \n",
            "11                           Bonnell, Miss. Elizabeth       1  female  58.0   \n",
            "23                       Sloper, Mr. William Thompson       1    male  28.0   \n",
            "\n",
            "       Fare  Survived  \n",
            "1   71.2833         1  \n",
            "3   53.1000         1  \n",
            "6   51.8625         0  \n",
            "11  26.5500         1  \n",
            "23  35.5000         1  \n",
            "Mean Fare: 84.1546875\n",
            "Median Fare: 60.287499999999994\n",
            "Maximum Fare: 512.3292\n",
            "Minimum Fare: 0.0\n"
          ]
        }
      ]
    },
    {
      "cell_type": "markdown",
      "source": [
        "Problem - 2: How many null values are contained in the ’Age’ column in your subsetted DataFrame? Once you’ve found this out, drop them from your DataFrame."
      ],
      "metadata": {
        "id": "u0yvXZ05mFCQ"
      }
    },
    {
      "cell_type": "code",
      "source": [
        "#Name: Chhaya Pandey\n",
        "#ID:240001\n",
        "\n",
        "null_count_age = first_class_file3['Age'].isnull().sum()\n",
        "print(f\"Number of null values in the 'Age' column: {null_count_age}\")\n",
        "\n",
        "first_class_df_cleaned = first_class_file3.dropna(subset=['Age'])\n",
        "\n",
        "\n",
        "null_count_age_after = first_class_df_cleaned['Age'].isnull().sum()\n",
        "print(f\"Number of null values in 'Age' column after dropping: {null_count_age_after}\")"
      ],
      "metadata": {
        "colab": {
          "base_uri": "https://localhost:8080/"
        },
        "id": "bZWm9KP5mHPF",
        "outputId": "8b34ea8e-0385-427f-c03f-ef76e8b584c4"
      },
      "execution_count": null,
      "outputs": [
        {
          "output_type": "stream",
          "name": "stdout",
          "text": [
            "Number of null values in the 'Age' column: 30\n",
            "Number of null values in 'Age' column after dropping: 0\n"
          ]
        }
      ]
    },
    {
      "cell_type": "markdown",
      "source": [
        "\n",
        "\n",
        "Problem - 3:\n",
        "\n",
        "The ’Embarked’ column in the Titanic dataset contains categorical data representing the ports of embarka- tion:\n",
        "\n",
        "• ’C’ for Cherbourg • ’Q’ for Queenstown • ’S’ for Southampton Task:\n",
        "\n",
        "    1.Use one-hot encoding to convert the ’Embarked’ column into separate binary columns (’Embarked C’, ’Embarked Q’, ’Embarked S’).\n",
        "    2.Add these new columns to the original DataFrame.\n",
        "    3.Drop the original ’Embarked’ column.\n",
        "    4.Print the first few rows of the modified DataFrame to verify the changes.\n",
        "\n"
      ],
      "metadata": {
        "id": "kkgfI3Wgmh7s"
      }
    },
    {
      "cell_type": "code",
      "source": [
        "#Name:Chhaya Pandey\n",
        "#ID:240001\n",
        "import pandas as pd\n",
        "\n",
        "\n",
        "df = pd.read_csv(\"/content/drive/MyDrive/Concepts and Technology of AI/Titanic-Dataset.csv\")\n",
        "\n",
        "\n",
        "embarked_encoded = pd.get_dummies(df['Embarked'], prefix='Embarked')\n",
        "\n",
        "\n",
        "df = pd.concat([df, embarked_encoded], axis=1)\n",
        "\n",
        "\n",
        "df.drop(columns=['Embarked'], inplace=True)\n",
        "\n",
        "\n",
        "print(df.head())"
      ],
      "metadata": {
        "colab": {
          "base_uri": "https://localhost:8080/"
        },
        "id": "IPRZ10llmq9-",
        "outputId": "26014533-4b43-481d-ca05-016f4227c009"
      },
      "execution_count": null,
      "outputs": [
        {
          "output_type": "stream",
          "name": "stdout",
          "text": [
            "   PassengerId  Survived  Pclass  \\\n",
            "0            1         0       3   \n",
            "1            2         1       1   \n",
            "2            3         1       3   \n",
            "3            4         1       1   \n",
            "4            5         0       3   \n",
            "\n",
            "                                                Name     Sex   Age  SibSp  \\\n",
            "0                            Braund, Mr. Owen Harris    male  22.0      1   \n",
            "1  Cumings, Mrs. John Bradley (Florence Briggs Th...  female  38.0      1   \n",
            "2                             Heikkinen, Miss. Laina  female  26.0      0   \n",
            "3       Futrelle, Mrs. Jacques Heath (Lily May Peel)  female  35.0      1   \n",
            "4                           Allen, Mr. William Henry    male  35.0      0   \n",
            "\n",
            "   Parch            Ticket     Fare Cabin  Embarked_C  Embarked_Q  Embarked_S  \n",
            "0      0         A/5 21171   7.2500   NaN       False       False        True  \n",
            "1      0          PC 17599  71.2833   C85        True       False       False  \n",
            "2      0  STON/O2. 3101282   7.9250   NaN       False       False        True  \n",
            "3      0            113803  53.1000  C123       False       False        True  \n",
            "4      0            373450   8.0500   NaN       False       False        True  \n"
          ]
        }
      ]
    },
    {
      "cell_type": "markdown",
      "source": [
        "\n",
        "\n",
        "Problem - 4:\n",
        "\n",
        "Compare the mean survival rates (’Survived’) for the different groups in the ’Sex’ column. Draw a visual- ization to show how the survival distributions vary by gender.\n"
      ],
      "metadata": {
        "id": "1o26kyXlnI6R"
      }
    },
    {
      "cell_type": "code",
      "source": [
        "#Name:Chhaya Pandey\n",
        "#ID:240001\n",
        "import pandas as pd\n",
        "import matplotlib.pyplot as plt\n",
        "\n",
        "\n",
        "df = pd.read_csv('/content/drive/MyDrive/Concepts and Technology of AI/Titanic-Dataset.csv')\n",
        "\n",
        "\n",
        "survival_rates = df.groupby('Sex')['Survived'].mean()\n",
        "\n",
        "print(\"Mean Survival Rates by Gender:\")\n",
        "print(survival_rates)\n",
        "\n",
        "genders = survival_rates.index\n",
        "rates = survival_rates.values\n",
        "\n",
        "plt.bar(genders, rates, color=['pink', 'blue'])\n",
        "plt.title('Survival Rates by Gender')\n",
        "plt.xlabel('Gender')\n",
        "plt.ylabel('Mean Survival Rate')\n",
        "plt.show()\n"
      ],
      "metadata": {
        "colab": {
          "base_uri": "https://localhost:8080/",
          "height": 559
        },
        "id": "9Vk0cStnnLTH",
        "outputId": "d2d0f945-717e-45e3-cb34-2761862320e7"
      },
      "execution_count": null,
      "outputs": [
        {
          "output_type": "stream",
          "name": "stdout",
          "text": [
            "Mean Survival Rates by Gender:\n",
            "Sex\n",
            "female    0.742038\n",
            "male      0.188908\n",
            "Name: Survived, dtype: float64\n"
          ]
        },
        {
          "output_type": "display_data",
          "data": {
            "text/plain": [
              "<Figure size 640x480 with 1 Axes>"
            ],
            "image/png": "[encoded data removed]"
          },
          "metadata": {}
        }
      ]
    },
    {
      "cell_type": "markdown",
      "source": [
        "\n",
        "\n",
        "Problem - 5:\n",
        "\n",
        "Draw a visualization that breaks your visualization from Exercise 3 down by the port of embarkation (’Em- barked’). In this instance, compare the ports ’C’ (Cherbourg), ’Q’ (Queenstown), and ’S’ (Southampton).\n"
      ],
      "metadata": {
        "id": "beVWnArYna22"
      }
    },
    {
      "cell_type": "code",
      "source": [
        "#Name:Chhaya Pandey\n",
        "#ID:240001\n",
        "import pandas as pd\n",
        "import matplotlib.pyplot as plt\n",
        "\n",
        "\n",
        "df = pd.read_csv('/content/drive/MyDrive/Concepts and Technology of AI/Titanic-Dataset.csv')\n",
        "\n",
        "df = df[df['Embarked'].isin(['C', 'Q', 'S'])]\n",
        "\n",
        "\n",
        "survival_rates = df.groupby(['Embarked', 'Sex'])['Survived'].mean().unstack()\n",
        "\n",
        "print(\"Survival Rates by Gender and Embarkation Port:\")\n",
        "print(survival_rates)\n",
        "\n",
        "\n",
        "survival_rates.plot(kind='bar', figsize=(10, 6), color=['pink', 'blue'])\n",
        "\n",
        "plt.title('Survival Rates by Gender and Embarkation Port', fontsize=14)\n",
        "plt.xlabel('Port of Embarkation')\n",
        "plt.ylabel('Mean Survival Rate')\n",
        "plt.legend(title='Gender')\n",
        "plt.xticks(rotation=0)\n",
        "plt.show()\n"
      ],
      "metadata": {
        "colab": {
          "base_uri": "https://localhost:8080/",
          "height": 529
        },
        "id": "WxoEl-Zhnm5l",
        "outputId": "1613f532-da73-4ad4-cb0a-1a7360138a80"
      },
      "execution_count": null,
      "outputs": [
        {
          "output_type": "stream",
          "name": "stdout",
          "text": [
            "Survival Rates by Gender and Embarkation Port:\n",
            "Sex         female      male\n",
            "Embarked                    \n",
            "C         0.876712  0.305263\n",
            "Q         0.750000  0.073171\n",
            "S         0.689655  0.174603\n"
          ]
        },
        {
          "output_type": "display_data",
          "data": {
            "text/plain": [
              "<Figure size 1000x600 with 1 Axes>"
            ],
            "image/png": "[encoded data removed]"
          },
          "metadata": {}
        }
      ]
    },
    {
      "cell_type": "code",
      "source": [
        "#Name:Chhaya Pandey\n",
        "#ID:240001\n",
        "import pandas as pd\n",
        "import matplotlib.pyplot as plt\n",
        "\n",
        "\n",
        "df = pd.read_csv('/content/drive/MyDrive/Concepts and Technology of AI/Titanic-Dataset.csv')\n",
        "\n",
        "df = df.dropna(subset=['Age'])\n",
        "\n",
        "\n",
        "df['AgeGroup'] = pd.qcut(df['Age'], q=5, labels=['Q1', 'Q2', 'Q3', 'Q4', 'Q5'])\n",
        "\n",
        "\n",
        "survival_rates = df.groupby(['Pclass', 'AgeGroup'])['Survived'].mean().unstack()\n",
        "\n",
        "print(\"Survival Rates by Age Group and Passenger Class:\")\n",
        "print(survival_rates)\n",
        "\n",
        "\n",
        "plt.figure(figsize=(12, 8))\n",
        "survival_rates.T.plot(kind='bar', figsize=(12, 6), cmap='viridis')\n",
        "\n",
        "plt.title('Survival Rates by Age Group and Passenger Class', fontsize=16)\n",
        "plt.xlabel('Age Group (Quantiles)', fontsize=12)\n",
        "plt.ylabel('Mean Survival Rate', fontsize=12)\n",
        "plt.legend(title='Passenger Class', fontsize=10)\n",
        "plt.xticks(rotation=0, fontsize=10)\n",
        "plt.yticks(fontsize=10)\n",
        "plt.show()"
      ],
      "metadata": {
        "colab": {
          "base_uri": "https://localhost:8080/",
          "height": 539
        },
        "id": "MNScJ_NPnxUF",
        "outputId": "de09b5f0-5b23-4a7c-ba59-8dde9e24631c"
      },
      "execution_count": null,
      "outputs": [
        {
          "output_type": "stream",
          "name": "stdout",
          "text": [
            "Survival Rates by Age Group and Passenger Class:\n",
            "AgeGroup        Q1        Q2        Q3        Q4        Q5\n",
            "Pclass                                                    \n",
            "1         0.809524  0.761905  0.666667  0.777778  0.506667\n",
            "2         0.742857  0.400000  0.416667  0.461538  0.363636\n",
            "3         0.333333  0.197674  0.283582  0.166667  0.088235\n"
          ]
        },
        {
          "output_type": "stream",
          "name": "stderr",
          "text": [
            "<ipython-input-23-da2fe251197c>:15: FutureWarning: The default of observed=False is deprecated and will be changed to True in a future version of pandas. Pass observed=False to retain current behavior or observed=True to adopt the future default and silence this warning.\n",
            "  survival_rates = df.groupby(['Pclass', 'AgeGroup'])['Survived'].mean().unstack()\n"
          ]
        },
        {
          "output_type": "display_data",
          "data": {
            "text/plain": [
              "<Figure size 1200x800 with 0 Axes>"
            ]
          },
          "metadata": {}
        },
        {
          "output_type": "display_data",
          "data": {
            "text/plain": [
              "<Figure size 1200x600 with 1 Axes>"
            ],
            "image/png": "[encoded data removed]"
          },
          "metadata": {}
        }
      ]
    }
  ]
}