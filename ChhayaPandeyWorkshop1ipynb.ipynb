{
  "nbformat": 4,
  "nbformat_minor": 0,
  "metadata": {
    "colab": {
      "provenance": []
    },
    "kernelspec": {
      "name": "python3",
      "display_name": "Python 3"
    },
    "language_info": {
      "name": "python"
    }
  },
  "cells": [
    {
      "cell_type": "markdown",
      "source": [],
      "metadata": {
        "id": "h3uYSDddnS_6"
      }
    },
    {
      "cell_type": "markdown",
      "source": [
        "1) Initialize an empty array with size 2X2."
      ],
      "metadata": {
        "id": "QljY_JD8nTR5"
      }
    },
    {
      "cell_type": "code",
      "source": [
        "import numpy as np\n",
        "\n",
        "emptyArray = np.empty((2,2));\n",
        "print(emptyArray);\n"
      ],
      "metadata": {
        "colab": {
          "base_uri": "https://localhost:8080/"
        },
        "id": "WRbtMZdznWCy",
        "outputId": "a6876092-5a71-44a9-f5c8-0d16efbadba0"
      },
      "execution_count": 12,
      "outputs": [
        {
          "output_type": "stream",
          "name": "stdout",
          "text": [
            "[[5.05887e-310 0.00000e+000]\n",
            " [1.58101e-322 0.00000e+000]]\n"
          ]
        }
      ]
    },
    {
      "cell_type": "markdown",
      "source": [
        "2)  Initialize an all one array with size 4X2."
      ],
      "metadata": {
        "id": "du1CIF6zqGYO"
      }
    },
    {
      "cell_type": "code",
      "source": [
        "import numpy as np\n",
        "\n",
        "oneArray = np.ones((4,2));\n",
        "print(oneArray);"
      ],
      "metadata": {
        "colab": {
          "base_uri": "https://localhost:8080/"
        },
        "id": "XiiwGm7sqS0-",
        "outputId": "51019aaf-0622-4b59-c412-c1e02bd72080"
      },
      "execution_count": 13,
      "outputs": [
        {
          "output_type": "stream",
          "name": "stdout",
          "text": [
            "[[1. 1.]\n",
            " [1. 1.]\n",
            " [1. 1.]\n",
            " [1. 1.]]\n"
          ]
        }
      ]
    },
    {
      "cell_type": "markdown",
      "source": [
        "3)Return a new array of given shape and type, filled with fill_value.{Hint: np.full}\n"
      ],
      "metadata": {
        "id": "4XmZkoomqTOO"
      }
    },
    {
      "cell_type": "code",
      "source": [
        "import numpy as np\n",
        "\n",
        "newArray = np.full((4,2),fill_value=1);\n",
        "print (newArray);\n"
      ],
      "metadata": {
        "colab": {
          "base_uri": "https://localhost:8080/"
        },
        "id": "QHgdoNqwqW99",
        "outputId": "5ee9e92a-06a3-4e44-ce23-0a024a569ae2"
      },
      "execution_count": 16,
      "outputs": [
        {
          "output_type": "stream",
          "name": "stdout",
          "text": [
            "[[1 1]\n",
            " [1 1]\n",
            " [1 1]\n",
            " [1 1]]\n"
          ]
        }
      ]
    },
    {
      "cell_type": "markdown",
      "source": [
        "4) Return a new array of zeros with same shape and type as a given array.{Hint: np.zeros like}"
      ],
      "metadata": {
        "id": "uqO_4de6qXbo"
      }
    },
    {
      "cell_type": "code",
      "source": [
        "import numpy as np\n",
        "\n",
        "newArray = np.zeros((4,2));\n",
        "print(newArray);\n"
      ],
      "metadata": {
        "colab": {
          "base_uri": "https://localhost:8080/"
        },
        "id": "xW7Pk3GAqaxI",
        "outputId": "3854469e-9c41-4c0f-c33c-bf4b42ee9c51"
      },
      "execution_count": 17,
      "outputs": [
        {
          "output_type": "stream",
          "name": "stdout",
          "text": [
            "[[0. 0.]\n",
            " [0. 0.]\n",
            " [0. 0.]\n",
            " [0. 0.]]\n"
          ]
        }
      ]
    },
    {
      "cell_type": "markdown",
      "source": [
        "5) Return a new array of ones with same shape and type as a given array.{Hint: np.ones like}"
      ],
      "metadata": {
        "id": "CW2xhP1tqbT0"
      }
    },
    {
      "cell_type": "code",
      "source": [
        "import numpy as np\n",
        "\n",
        "newArray = np.ones((4,2));\n",
        "print (newArray);\n"
      ],
      "metadata": {
        "colab": {
          "base_uri": "https://localhost:8080/"
        },
        "id": "lqNIgyg3qeQl",
        "outputId": "0622c191-b279-46a1-e991-1a96d0eb850d"
      },
      "execution_count": 18,
      "outputs": [
        {
          "output_type": "stream",
          "name": "stdout",
          "text": [
            "[[1. 1.]\n",
            " [1. 1.]\n",
            " [1. 1.]\n",
            " [1. 1.]]\n"
          ]
        }
      ]
    },
    {
      "cell_type": "markdown",
      "source": [
        "6) For an existing list new_list = [1,2,3,4] convert to an numpy array.{Hint: np.array()}"
      ],
      "metadata": {
        "id": "7D6sOGaMqevP"
      }
    },
    {
      "cell_type": "code",
      "source": [
        "import numpy as np\n",
        "\n",
        "new_list = [1,2,3,4];\n",
        "array= np.array(new_list);\n",
        "print(array);"
      ],
      "metadata": {
        "colab": {
          "base_uri": "https://localhost:8080/"
        },
        "id": "lsvJr0rHqh-5",
        "outputId": "879522b1-aec0-4295-fc0d-75e029531a8b"
      },
      "execution_count": 19,
      "outputs": [
        {
          "output_type": "stream",
          "name": "stdout",
          "text": [
            "[1 2 3 4]\n"
          ]
        }
      ]
    },
    {
      "cell_type": "markdown",
      "source": [
        "Problem - 2: Array Manipulation: Numerical Ranges and Array indexing:"
      ],
      "metadata": {
        "id": "x0BU6nDCqidm"
      }
    },
    {
      "cell_type": "markdown",
      "source": [
        "1) Create an array with values ranging from 10 to 49. {Hint:np.arrange()}."
      ],
      "metadata": {
        "id": "nutke1v9qpBt"
      }
    },
    {
      "cell_type": "code",
      "source": [
        "import numpy as np\n",
        "\n",
        "array = np.arange(10,50);\n",
        "print (array);\n"
      ],
      "metadata": {
        "colab": {
          "base_uri": "https://localhost:8080/"
        },
        "id": "Ndtb-OCyqsq7",
        "outputId": "1ed659d3-0954-4038-cc7e-7060a66f0c1c"
      },
      "execution_count": 21,
      "outputs": [
        {
          "output_type": "stream",
          "name": "stdout",
          "text": [
            "[10 11 12 13 14 15 16 17 18 19 20 21 22 23 24 25 26 27 28 29 30 31 32 33\n",
            " 34 35 36 37 38 39 40 41 42 43 44 45 46 47 48 49]\n"
          ]
        }
      ]
    },
    {
      "cell_type": "markdown",
      "source": [
        "2) Create a 3X3 matrix with values ranging from 0 to 8.\n",
        "{Hint:look for np.reshape()}"
      ],
      "metadata": {
        "id": "FWSDjSdzqtDL"
      }
    },
    {
      "cell_type": "code",
      "source": [
        "import numpy as np\n",
        "\n",
        "array = np.arange(0,9);\n",
        "reshapeArray = array.reshape(3,3);\n",
        "print (reshapeArray);"
      ],
      "metadata": {
        "colab": {
          "base_uri": "https://localhost:8080/"
        },
        "id": "_V6uRRgqqv9C",
        "outputId": "9b93a9ab-ae85-4ec3-8126-333b5bfe8312"
      },
      "execution_count": 25,
      "outputs": [
        {
          "output_type": "stream",
          "name": "stdout",
          "text": [
            "[[0 1 2]\n",
            " [3 4 5]\n",
            " [6 7 8]]\n"
          ]
        }
      ]
    },
    {
      "cell_type": "markdown",
      "source": [
        "3) Create a 3X3 identity matrix.{Hint:np.eye()}"
      ],
      "metadata": {
        "id": "w4evv49pqwYd"
      }
    },
    {
      "cell_type": "code",
      "source": [
        "import numpy as np\n",
        "\n",
        "array= np.eye(3,3);\n",
        "print (array);"
      ],
      "metadata": {
        "colab": {
          "base_uri": "https://localhost:8080/"
        },
        "id": "8tRtE8wBqzXg",
        "outputId": "01866b17-10bd-45df-842d-81cbb93f9d7c"
      },
      "execution_count": 29,
      "outputs": [
        {
          "output_type": "stream",
          "name": "stdout",
          "text": [
            "[[1. 0. 0.]\n",
            " [0. 1. 0.]\n",
            " [0. 0. 1.]]\n"
          ]
        }
      ]
    },
    {
      "cell_type": "markdown",
      "source": [
        "4) Create a random array of size 30 and find the mean of the array.\n",
        "{Hint:check for np.random.random() and array.mean() function}"
      ],
      "metadata": {
        "id": "fByPlz2Yqzv0"
      }
    },
    {
      "cell_type": "code",
      "source": [
        "import numpy as np\n",
        "\n",
        "array = np.random.random(30);\n",
        "meanOfArray = np.mean(array);\n",
        "\n",
        "print(\"The mean of the random array is: \",meanOfArray);"
      ],
      "metadata": {
        "colab": {
          "base_uri": "https://localhost:8080/"
        },
        "id": "sYBMxDS2q2m8",
        "outputId": "45957a66-f612-40f3-c1e4-8dee45fe007b"
      },
      "execution_count": 33,
      "outputs": [
        {
          "output_type": "stream",
          "name": "stdout",
          "text": [
            "The mean of the random array is:  0.5822711182200723\n"
          ]
        }
      ]
    },
    {
      "cell_type": "markdown",
      "source": [
        "5) Create a 10X10 array with random values and find the minimum and maximum values."
      ],
      "metadata": {
        "id": "usro3v5Qq3Ht"
      }
    },
    {
      "cell_type": "code",
      "source": [
        "import numpy as np\n",
        "\n",
        "array = np.random.rand(10,10);\n",
        "minimum = np.min(array);\n",
        "maximum = np.max(array);\n",
        "\n",
        "print (\"minimum: \", minimum, \"maximum: \", maximum);"
      ],
      "metadata": {
        "colab": {
          "base_uri": "https://localhost:8080/"
        },
        "id": "WvxKgI6hq6Hu",
        "outputId": "aa8f8fcd-7e6f-4be9-9d5b-62b3612d9136"
      },
      "execution_count": 44,
      "outputs": [
        {
          "output_type": "stream",
          "name": "stdout",
          "text": [
            "minimum:  0.0014924729389804714 maximum:  0.9932275438625203\n"
          ]
        }
      ]
    },
    {
      "cell_type": "markdown",
      "source": [
        "6) Create a zero array of size 10 and replace 5th element with 1."
      ],
      "metadata": {
        "id": "bhULytsCq6dM"
      }
    },
    {
      "cell_type": "code",
      "source": [
        "import numpy as np\n",
        "\n",
        "array = np.zeros(10);\n",
        "array[4]= 1;\n",
        "print (array);"
      ],
      "metadata": {
        "colab": {
          "base_uri": "https://localhost:8080/"
        },
        "id": "fEG6eKoDq9Xp",
        "outputId": "f834799b-bfe7-4abd-cb46-d7bcd5b45452"
      },
      "execution_count": 38,
      "outputs": [
        {
          "output_type": "stream",
          "name": "stdout",
          "text": [
            "[0. 0. 0. 0. 1. 0. 0. 0. 0. 0.]\n"
          ]
        }
      ]
    },
    {
      "cell_type": "markdown",
      "source": [
        "7) Reverse an array arr = [1,2,0,0,4,0]."
      ],
      "metadata": {
        "id": "_XAVUasnq9pB"
      }
    },
    {
      "cell_type": "code",
      "source": [
        "import numpy as np\n",
        "\n",
        "arr= [1,2,0,0,4,0];\n",
        "reversal = arr[:: -1];\n",
        "print(reversal);"
      ],
      "metadata": {
        "colab": {
          "base_uri": "https://localhost:8080/"
        },
        "id": "-X0E4NTErAF5",
        "outputId": "424f6dcb-b06e-4efe-99b6-dd4ee74f1f62"
      },
      "execution_count": 45,
      "outputs": [
        {
          "output_type": "stream",
          "name": "stdout",
          "text": [
            "[0, 4, 0, 0, 2, 1]\n"
          ]
        }
      ]
    },
    {
      "cell_type": "markdown",
      "source": [
        "8) Create a 2d array with 1 on border and 0 inside."
      ],
      "metadata": {
        "id": "9BxfCCbJrAp0"
      }
    },
    {
      "cell_type": "code",
      "source": [
        "import numpy as np\n",
        "\n",
        "array = np.ones((10,10));\n",
        "array[ 1:-1, 1:-1]=0;\n",
        "print(array);"
      ],
      "metadata": {
        "colab": {
          "base_uri": "https://localhost:8080/"
        },
        "id": "nioAoBL7rDC9",
        "outputId": "d8a5ad3e-6275-41cc-ef7b-bd0e5e9d4d7c"
      },
      "execution_count": 53,
      "outputs": [
        {
          "output_type": "stream",
          "name": "stdout",
          "text": [
            "[[1. 1. 1. 1. 1. 1. 1. 1. 1. 1.]\n",
            " [1. 0. 0. 0. 0. 0. 0. 0. 0. 1.]\n",
            " [1. 0. 0. 0. 0. 0. 0. 0. 0. 1.]\n",
            " [1. 0. 0. 0. 0. 0. 0. 0. 0. 1.]\n",
            " [1. 0. 0. 0. 0. 0. 0. 0. 0. 1.]\n",
            " [1. 0. 0. 0. 0. 0. 0. 0. 0. 1.]\n",
            " [1. 0. 0. 0. 0. 0. 0. 0. 0. 1.]\n",
            " [1. 0. 0. 0. 0. 0. 0. 0. 0. 1.]\n",
            " [1. 0. 0. 0. 0. 0. 0. 0. 0. 1.]\n",
            " [1. 1. 1. 1. 1. 1. 1. 1. 1. 1.]]\n"
          ]
        }
      ]
    },
    {
      "cell_type": "markdown",
      "source": [
        "9) Create a 8X8 matrix and fill it with a checkerboard pattern."
      ],
      "metadata": {
        "id": "9BkCOk6QrDY0"
      }
    },
    {
      "cell_type": "code",
      "source": [
        "import numpy as np\n",
        "\n",
        "matrix = np.zeros((8,8));\n",
        "matrix[::2, ::2]=1;\n",
        "matrix[1::2, 1::2]=1;\n",
        "print(matrix);"
      ],
      "metadata": {
        "colab": {
          "base_uri": "https://localhost:8080/"
        },
        "id": "uuPLErgtrGti",
        "outputId": "49c851f8-b487-40ff-bdb5-a846fa72b6a3"
      },
      "execution_count": 57,
      "outputs": [
        {
          "output_type": "stream",
          "name": "stdout",
          "text": [
            "[[1. 0. 1. 0. 1. 0. 1. 0.]\n",
            " [0. 1. 0. 1. 0. 1. 0. 1.]\n",
            " [1. 0. 1. 0. 1. 0. 1. 0.]\n",
            " [0. 1. 0. 1. 0. 1. 0. 1.]\n",
            " [1. 0. 1. 0. 1. 0. 1. 0.]\n",
            " [0. 1. 0. 1. 0. 1. 0. 1.]\n",
            " [1. 0. 1. 0. 1. 0. 1. 0.]\n",
            " [0. 1. 0. 1. 0. 1. 0. 1.]]\n"
          ]
        }
      ]
    },
    {
      "cell_type": "markdown",
      "source": [
        "Problem - 3: Array Operations:"
      ],
      "metadata": {
        "id": "pjSTqTnDrHMg"
      }
    },
    {
      "cell_type": "markdown",
      "source": [
        "For the following arrays:\n",
        "x = np.array([[1,2],[3,5]]) and y = np.array([[5,6],[7,8]]);\n",
        "v = np.array([9,10]) and w = np.array([11,12]);\n",
        "Complete all the task using numpy:"
      ],
      "metadata": {
        "id": "VTpH6ajgrJ1x"
      }
    },
    {
      "cell_type": "markdown",
      "source": [
        "1) Add the two array."
      ],
      "metadata": {
        "id": "7Jx7KNWsrMSE"
      }
    },
    {
      "cell_type": "code",
      "source": [
        "import numpy as np\n",
        "\n",
        "x= np.array([[1,2],[3,5]]);\n",
        "\n",
        "y= np.array([[5,6],[7,8]]);\n",
        "\n",
        "add = np.add(x,y);\n",
        "\n",
        "print(\"The total sum is: \", add);\n"
      ],
      "metadata": {
        "colab": {
          "base_uri": "https://localhost:8080/"
        },
        "id": "-gkVwbMNrPLt",
        "outputId": "359382aa-9bb9-420e-cb35-142ce0fdd1af"
      },
      "execution_count": 60,
      "outputs": [
        {
          "output_type": "stream",
          "name": "stdout",
          "text": [
            "The total sum is:  [[ 6  8]\n",
            " [10 13]]\n"
          ]
        }
      ]
    },
    {
      "cell_type": "markdown",
      "source": [
        "2) Subtract the two array."
      ],
      "metadata": {
        "id": "h2Krs-bdrPWd"
      }
    },
    {
      "cell_type": "code",
      "source": [
        "import numpy as np\n",
        "\n",
        "x= np.array([[1,2],[3,5]]);\n",
        "\n",
        "y= np.array([[5,6],[7,8]]);\n",
        "\n",
        "subtract = np.subtract(y,x);\n",
        "\n",
        "print(\"Subtracting x from y gives us: \", subtract);"
      ],
      "metadata": {
        "colab": {
          "base_uri": "https://localhost:8080/"
        },
        "id": "ztQfiCElrR2H",
        "outputId": "7374a536-d82a-4392-a882-911304138ca3"
      },
      "execution_count": 62,
      "outputs": [
        {
          "output_type": "stream",
          "name": "stdout",
          "text": [
            "Subtracting x from y gives us:  [[4 4]\n",
            " [4 3]]\n"
          ]
        }
      ]
    },
    {
      "cell_type": "markdown",
      "source": [
        "3) Multiply the array with any integers of your choice."
      ],
      "metadata": {
        "id": "fyLB6f1srSi0"
      }
    },
    {
      "cell_type": "code",
      "source": [
        "import numpy as np\n",
        "\n",
        "x = np.array([[1, 2], [3, 5]])\n",
        "y = np.array([[5, 6], [7, 8]])\n",
        "v = np.array([9, 10])\n",
        "w = np.array([11, 12])\n",
        "\n",
        "xMultiplication = 4*x;\n",
        "print (xMultiplication);\n",
        "\n",
        "yMultiplication = 7*y;\n",
        "print (yMultiplication);\n",
        "\n",
        "vMultiplication = 3*v;\n",
        "print (vMultiplication);\n",
        "\n",
        "wMultiplication = 10*w;\n",
        "print (wMultiplication);"
      ],
      "metadata": {
        "colab": {
          "base_uri": "https://localhost:8080/"
        },
        "id": "nAKJaDrarU08",
        "outputId": "aac186d9-42ba-41dc-f9e4-c05308d7ee2b"
      },
      "execution_count": 64,
      "outputs": [
        {
          "output_type": "stream",
          "name": "stdout",
          "text": [
            "[[ 4  8]\n",
            " [12 20]]\n",
            "[[35 42]\n",
            " [49 56]]\n",
            "[27 30]\n",
            "[110 120]\n"
          ]
        }
      ]
    },
    {
      "cell_type": "markdown",
      "source": [
        "4) Find the square of each element of the array."
      ],
      "metadata": {
        "id": "UHCJSw4KrVGT"
      }
    },
    {
      "cell_type": "code",
      "source": [
        "import numpy as np\n",
        "\n",
        "x = np.array([[1, 2], [3, 5]])\n",
        "y = np.array([[5, 6], [7, 8]])\n",
        "v = np.array([9, 10])\n",
        "w = np.array([11, 12])\n",
        "\n",
        "squareX = np.square(x);\n",
        "\n",
        "squarey = np.square(y);\n",
        "\n",
        "squarev = np.square(v);\n",
        "\n",
        "squarew = np.square(w);\n",
        "\n",
        "print(squareX);\n",
        "print(squarey);\n",
        "print(squarev);\n",
        "print(squarew);\n"
      ],
      "metadata": {
        "colab": {
          "base_uri": "https://localhost:8080/"
        },
        "id": "AflY-mEtrXt9",
        "outputId": "a0fdceb3-3897-4a33-d2e3-4bdf7357eb9e"
      },
      "execution_count": 66,
      "outputs": [
        {
          "output_type": "stream",
          "name": "stdout",
          "text": [
            "[[ 1  4]\n",
            " [ 9 25]]\n",
            "[[25 36]\n",
            " [49 64]]\n",
            "[ 81 100]\n",
            "[121 144]\n"
          ]
        }
      ]
    },
    {
      "cell_type": "markdown",
      "source": [
        "5) Find the dot product between: v(and)w ; x(and)v ; x(and)y."
      ],
      "metadata": {
        "id": "fSG9eQhTrX94"
      }
    },
    {
      "cell_type": "code",
      "source": [
        "import numpy as np\n",
        "\n",
        "x = np.array([[1, 2], [3, 5]])\n",
        "y = np.array([[5, 6], [7, 8]])\n",
        "v = np.array([9, 10])\n",
        "w = np.array([11, 12])\n",
        "\n",
        "dotProductOne = np.dot(v,w);\n",
        "print(dotProductOne);\n",
        "\n",
        "dotProductTwo = np.dot(x,v);\n",
        "print(dotProductTwo);\n",
        "\n",
        "dotProductThree = np.dot(x,y);\n",
        "print(dotProductThree);"
      ],
      "metadata": {
        "colab": {
          "base_uri": "https://localhost:8080/"
        },
        "id": "-sWPHiX3raRk",
        "outputId": "b4c3e787-b5bd-4f34-9ea2-90a44a1417f3"
      },
      "execution_count": 69,
      "outputs": [
        {
          "output_type": "stream",
          "name": "stdout",
          "text": [
            "219\n",
            "[29 77]\n",
            "[[19 22]\n",
            " [50 58]]\n"
          ]
        }
      ]
    },
    {
      "cell_type": "markdown",
      "source": [
        "6) Concatenate x(and)y along row and Concatenate v(and)w along column.\n",
        "{Hint:try np.concatenate() or np.vstack() functions."
      ],
      "metadata": {
        "id": "k7ce2H6LradV"
      }
    },
    {
      "cell_type": "code",
      "source": [
        "import numpy as np\n",
        "\n",
        "x = np.array([[1, 2], [3, 5]])\n",
        "y = np.array([[5, 6], [7, 8]])\n",
        "v = np.array([9, 10])\n",
        "w = np.array([11, 12])\n",
        "\n",
        "concatenate_xy = np.concatenate((x,y), axis= 1);\n",
        "print(concatenate_xy);\n",
        "\n",
        "concatenate_vw= np.vstack((v,w)).T;\n",
        "print(concatenate_vw);"
      ],
      "metadata": {
        "colab": {
          "base_uri": "https://localhost:8080/"
        },
        "id": "lpjPmPCbrdbO",
        "outputId": "fb0fb697-61f2-4960-a358-ec9b729780e3"
      },
      "execution_count": 78,
      "outputs": [
        {
          "output_type": "stream",
          "name": "stdout",
          "text": [
            "[[1 2 5 6]\n",
            " [3 5 7 8]]\n",
            "[[ 9 11]\n",
            " [10 12]]\n"
          ]
        }
      ]
    },
    {
      "cell_type": "markdown",
      "source": [
        "7) Concatenate x(and)v; if you get an error, observe and explain why did you get the error?"
      ],
      "metadata": {
        "id": "gddFML_ireH8"
      }
    },
    {
      "cell_type": "code",
      "source": [
        "import numpy as np\n",
        "\n",
        "x = np.array([[1, 2], [3, 5]])\n",
        "v = np.array([9, 10])\n",
        "\n",
        "concatenate= np.concatenate((x,v),0);\n",
        "print(concatenate);"
      ],
      "metadata": {
        "colab": {
          "base_uri": "https://localhost:8080/",
          "height": 214
        },
        "id": "JSmQ1m2MrgUK",
        "outputId": "89387290-d3fe-41bc-ce41-7bea6463bba7"
      },
      "execution_count": 79,
      "outputs": [
        {
          "output_type": "error",
          "ename": "ValueError",
          "evalue": "all the input arrays must have same number of dimensions, but the array at index 0 has 2 dimension(s) and the array at index 1 has 1 dimension(s)",
          "traceback": [
            "\u001b[0;31m---------------------------------------------------------------------------\u001b[0m",
            "\u001b[0;31mValueError\u001b[0m                                Traceback (most recent call last)",
            "\u001b[0;32m<ipython-input-79-e4eed37e4755>\u001b[0m in \u001b[0;36m<cell line: 6>\u001b[0;34m()\u001b[0m\n\u001b[1;32m      4\u001b[0m \u001b[0mv\u001b[0m \u001b[0;34m=\u001b[0m \u001b[0mnp\u001b[0m\u001b[0;34m.\u001b[0m\u001b[0marray\u001b[0m\u001b[0;34m(\u001b[0m\u001b[0;34m[\u001b[0m\u001b[0;36m9\u001b[0m\u001b[0;34m,\u001b[0m \u001b[0;36m10\u001b[0m\u001b[0;34m]\u001b[0m\u001b[0;34m)\u001b[0m\u001b[0;34m\u001b[0m\u001b[0;34m\u001b[0m\u001b[0m\n\u001b[1;32m      5\u001b[0m \u001b[0;34m\u001b[0m\u001b[0m\n\u001b[0;32m----> 6\u001b[0;31m \u001b[0mconcatenate\u001b[0m\u001b[0;34m=\u001b[0m \u001b[0mnp\u001b[0m\u001b[0;34m.\u001b[0m\u001b[0mconcatenate\u001b[0m\u001b[0;34m(\u001b[0m\u001b[0;34m(\u001b[0m\u001b[0mx\u001b[0m\u001b[0;34m,\u001b[0m\u001b[0mv\u001b[0m\u001b[0;34m)\u001b[0m\u001b[0;34m,\u001b[0m\u001b[0;36m0\u001b[0m\u001b[0;34m)\u001b[0m\u001b[0;34m;\u001b[0m\u001b[0;34m\u001b[0m\u001b[0;34m\u001b[0m\u001b[0m\n\u001b[0m\u001b[1;32m      7\u001b[0m \u001b[0mprint\u001b[0m\u001b[0;34m(\u001b[0m\u001b[0mconcatenate\u001b[0m\u001b[0;34m)\u001b[0m\u001b[0;34m;\u001b[0m\u001b[0;34m\u001b[0m\u001b[0;34m\u001b[0m\u001b[0m\n",
            "\u001b[0;31mValueError\u001b[0m: all the input arrays must have same number of dimensions, but the array at index 0 has 2 dimension(s) and the array at index 1 has 1 dimension(s)"
          ]
        }
      ]
    },
    {
      "cell_type": "markdown",
      "source": [
        "The arrays we are trying to concatenate must have same numbers of dimensions, that's why its showing an error."
      ],
      "metadata": {
        "id": "64QLxZy_8EXg"
      }
    },
    {
      "cell_type": "markdown",
      "source": [
        "Problem - 4: Matrix Operations:"
      ],
      "metadata": {
        "id": "UNcpVzJIrgux"
      }
    },
    {
      "cell_type": "markdown",
      "source": [
        "• For the following arrays:\n",
        "A = np.array([[3,4],[7,8]]) and B = np.array([[5,3],[2,1]]);\n",
        "Prove following with Numpy:"
      ],
      "metadata": {
        "id": "ozcZ9XDUriP8"
      }
    },
    {
      "cell_type": "markdown",
      "source": [
        "1) Prove A.A−1 = I."
      ],
      "metadata": {
        "id": "tTCxQbjMrno8"
      }
    },
    {
      "cell_type": "code",
      "source": [
        "import numpy as np\n",
        "\n",
        "A = np.array([[3,4],[7,8]])\n",
        "A_inverse= np.linalg.inv(A);\n",
        "\n",
        "dotProduct= np.dot(A,A_inverse);\n",
        "print(dotProduct);\n"
      ],
      "metadata": {
        "colab": {
          "base_uri": "https://localhost:8080/"
        },
        "id": "y-S-t-USrqbF",
        "outputId": "a546b48b-0649-4049-caaf-3525661b690e"
      },
      "execution_count": 80,
      "outputs": [
        {
          "output_type": "stream",
          "name": "stdout",
          "text": [
            "[[1.00000000e+00 0.00000000e+00]\n",
            " [1.77635684e-15 1.00000000e+00]]\n"
          ]
        }
      ]
    },
    {
      "cell_type": "markdown",
      "source": [
        "2) Prove AB ̸= BA."
      ],
      "metadata": {
        "id": "uS0mwhV8rqld"
      }
    },
    {
      "cell_type": "code",
      "source": [
        "import numpy as np\n",
        "\n",
        "A = np.array([[3, 4], [7, 8]]);\n",
        "B = np.array([[5, 3], [2, 1]]);\n",
        "\n",
        "A_B = np.dot(A, B);\n",
        "B_A = np.dot(B, A);\n",
        "\n",
        "print(A_B);\n",
        "print(B_A);"
      ],
      "metadata": {
        "colab": {
          "base_uri": "https://localhost:8080/"
        },
        "id": "7cTPKwXPrs03",
        "outputId": "af0954d9-45cc-4e58-9f18-0a223fe69127"
      },
      "execution_count": 81,
      "outputs": [
        {
          "output_type": "stream",
          "name": "stdout",
          "text": [
            "[[23 13]\n",
            " [51 29]]\n",
            "[[36 44]\n",
            " [13 16]]\n"
          ]
        }
      ]
    },
    {
      "cell_type": "markdown",
      "source": [
        "3) Prove (AB)\n",
        "\n",
        "T = BTAT"
      ],
      "metadata": {
        "id": "8qEmrVSrrs_N"
      }
    },
    {
      "cell_type": "code",
      "source": [
        "import numpy as np\n",
        "\n",
        "A = np.array([[3, 4], [7, 8]]);\n",
        "B = np.array([[5, 3], [2, 1]]);\n",
        "\n",
        "\n",
        "AB_T = np.transpose(np.dot(A, B));\n",
        "\n",
        "\n",
        "BT_AT = np.dot(np.transpose(B), np.transpose(A));\n",
        "\n",
        "print(AB_T);\n",
        "print(BT_AT);"
      ],
      "metadata": {
        "colab": {
          "base_uri": "https://localhost:8080/"
        },
        "id": "G8X0Vt8Erw9m",
        "outputId": "3a7f9354-f49a-4791-89b2-bb4df59b263f"
      },
      "execution_count": 82,
      "outputs": [
        {
          "output_type": "stream",
          "name": "stdout",
          "text": [
            "[[23 51]\n",
            " [13 29]]\n",
            "[[23 51]\n",
            " [13 29]]\n"
          ]
        }
      ]
    },
    {
      "cell_type": "markdown",
      "source": [
        "Solve the following system of Linear equation using Inverse Methods.\n",
        "\n",
        "2x − 3y + z = −1\n",
        "x − y + 2z = −3\n",
        "3x + y − z = 9\n",
        "\n",
        "{Hint: First use Numpy array to represent the equation in Matrix form. Then Solve for: AX = B}"
      ],
      "metadata": {
        "id": "fLwGEcEhr0kU"
      }
    },
    {
      "cell_type": "code",
      "source": [
        "import numpy as np\n",
        "\n",
        "A= np.array([[2, -3, 1], [1, -1, 2], [3, 1, -1]]);\n",
        "B = np.array([-1, -3, 9]);\n",
        "\n",
        "A_inverse = np.linalg.inv(A);\n",
        "X= np.dot(A_inverse, B);\n",
        "print(X);"
      ],
      "metadata": {
        "colab": {
          "base_uri": "https://localhost:8080/"
        },
        "id": "gOLrX1zEr7UP",
        "outputId": "689a5403-6655-4978-ed1b-7877d90d9c29"
      },
      "execution_count": 83,
      "outputs": [
        {
          "output_type": "stream",
          "name": "stdout",
          "text": [
            "[ 2.  1. -2.]\n"
          ]
        }
      ]
    },
    {
      "cell_type": "markdown",
      "source": [
        "• Now: solve the above equation using np.linalg.inv function.{Explore more about ”linalg” function\n",
        "of Numpy}"
      ],
      "metadata": {
        "id": "YDxgTmojr7pe"
      }
    },
    {
      "cell_type": "code",
      "source": [
        "import numpy as np\n",
        "\n",
        "A= np.array([[2, -3, 1], [1, -1, 2], [3, 1, -1]]);\n",
        "B = np.array([-1, -3, 9]);\n",
        "\n",
        "A_inverse = np.linalg.inv(A);\n",
        "X= np.dot(A_inverse, B);\n",
        "print(X);"
      ],
      "metadata": {
        "colab": {
          "base_uri": "https://localhost:8080/"
        },
        "id": "mmvKc7oHr9c9",
        "outputId": "738914ba-56c7-4ecc-c748-d02ed0203bed"
      },
      "execution_count": 84,
      "outputs": [
        {
          "output_type": "stream",
          "name": "stdout",
          "text": [
            "[ 2.  1. -2.]\n"
          ]
        }
      ]
    },
    {
      "cell_type": "markdown",
      "source": [
        "Experiment: How Fast is Numpy?\n",
        "In this exercise, you will compare the performance and implementation of operations using plain Python\n",
        "lists (arrays) and NumPy arrays. Follow the instructions:"
      ],
      "metadata": {
        "id": "nQCH4WWo-5fA"
      }
    },
    {
      "cell_type": "markdown",
      "source": [
        "1. Element-wise Addition:\n",
        "• Using Python Lists, perform element-wise addition of two lists of size 1, 000, 000. Measure\n",
        "and Print the time taken for this operation."
      ],
      "metadata": {
        "id": "R_cpdi-v-9xH"
      }
    },
    {
      "cell_type": "code",
      "source": [
        "import time\n",
        "\n",
        "\n",
        "A = [i for i in range(1, 1000001)]\n",
        "B = [i for i in range(1, 1000001)]\n",
        "\n",
        "\n",
        "start = time.time()\n",
        "\n",
        "\n",
        "addition = [A[i] + B[i] for i in range(len(A))]\n",
        "\n",
        "end = time.time()\n",
        "\n",
        "print(f\"Time taken: {end - start}\")\n",
        "\n"
      ],
      "metadata": {
        "colab": {
          "base_uri": "https://localhost:8080/"
        },
        "id": "-hTTzJxn_Bsi",
        "outputId": "05097978-07c6-4207-8803-fc4fb0ca5554"
      },
      "execution_count": 87,
      "outputs": [
        {
          "output_type": "stream",
          "name": "stdout",
          "text": [
            "Time taken: 0.3209805488586426\n"
          ]
        }
      ]
    },
    {
      "cell_type": "markdown",
      "source": [
        "Using Numpy Arrays, Repeat the calculation and measure and print the time taken for this\n",
        "operation."
      ],
      "metadata": {
        "id": "kL8DumBQ_DoG"
      }
    },
    {
      "cell_type": "code",
      "source": [
        "import numpy as np\n",
        "import time\n",
        "\n",
        "A = np.arange(1, 1000001)\n",
        "B = np.arange(1, 1000001)\n",
        "\n",
        "start = time.time()\n",
        "\n",
        "addition = A + B\n",
        "\n",
        "end = time.time()\n",
        "\n",
        "print(f\"Time taken: {end - start}\")\n",
        "\n"
      ],
      "metadata": {
        "colab": {
          "base_uri": "https://localhost:8080/"
        },
        "id": "Z2RBl7Av_FXP",
        "outputId": "378dbbae-204d-418e-87a3-e9470f935674"
      },
      "execution_count": 88,
      "outputs": [
        {
          "output_type": "stream",
          "name": "stdout",
          "text": [
            "Time taken: 0.0041425228118896484\n"
          ]
        }
      ]
    },
    {
      "cell_type": "markdown",
      "source": [
        "Element-wise Multiplication\n",
        "\n",
        "• Using Python Lists, perform element-wise multiplication of two lists of size 1, 000, 000. Mea-\n",
        "sure and Print the time taken for this operation."
      ],
      "metadata": {
        "id": "WPhYF3DD_GAq"
      }
    },
    {
      "cell_type": "code",
      "source": [
        "import time\n",
        "\n",
        "A = [i for i in range(1, 1000001)]\n",
        "B = [i for i in range(1, 1000001)]\n",
        "\n",
        "start = time.time()\n",
        "\n",
        "multiplication = [A[i] * B[i] for i in range(len(A))]\n",
        "\n",
        "end = time.time()\n",
        "\n",
        "print(f\"Time taken: {end - start} \")\n",
        "\n"
      ],
      "metadata": {
        "colab": {
          "base_uri": "https://localhost:8080/"
        },
        "id": "mZS4nWJy_Iqd",
        "outputId": "6f5173ad-d993-4310-de44-32ebd6ddd143"
      },
      "execution_count": 89,
      "outputs": [
        {
          "output_type": "stream",
          "name": "stdout",
          "text": [
            "Time taken: 0.1547391414642334 \n"
          ]
        }
      ]
    },
    {
      "cell_type": "markdown",
      "source": [
        "Using Numpy Arrays, Repeat the calculation and measure and print the time taken for this\n",
        "operation."
      ],
      "metadata": {
        "id": "aHWSNHQ1_JI1"
      }
    },
    {
      "cell_type": "code",
      "source": [
        "import numpy as np\n",
        "import time\n",
        "\n",
        "A = np.arange(1, 1000001)\n",
        "B = np.arange(1, 1000001)\n",
        "\n",
        "start = time.time()\n",
        "\n",
        "multiplication = A * B\n",
        "\n",
        "end = time.time()\n",
        "\n",
        "print(f\"Time taken: {end - start}\")"
      ],
      "metadata": {
        "colab": {
          "base_uri": "https://localhost:8080/"
        },
        "id": "PrAtctzP_LUq",
        "outputId": "d57ba8b1-20b9-416d-817e-0ae890360468"
      },
      "execution_count": 91,
      "outputs": [
        {
          "output_type": "stream",
          "name": "stdout",
          "text": [
            "Time taken: 0.004776477813720703\n"
          ]
        }
      ]
    },
    {
      "cell_type": "markdown",
      "source": [
        "Dot Product\n",
        "• Using Python Lists, compute the dot product of two lists of size 1, 000, 000. Measure and\n",
        "Print the time taken for this operation."
      ],
      "metadata": {
        "id": "a1IlRq7U_MN5"
      }
    },
    {
      "cell_type": "code",
      "source": [
        "import time\n",
        "\n",
        "A = [i for i in range(1, 1000001)]\n",
        "B = [i for i in range(1, 1000001)]\n",
        "\n",
        "start = time.time()\n",
        "\n",
        "dot = sum(A[i] * B[i] for i in range(len(A)))\n",
        "\n",
        "end = time.time()\n",
        "\n",
        "print(f\"Time taken : {end - start} \")"
      ],
      "metadata": {
        "colab": {
          "base_uri": "https://localhost:8080/"
        },
        "id": "UgvQf1Jz_OQg",
        "outputId": "2a8dc942-680f-493f-d49a-b0635606f823"
      },
      "execution_count": 92,
      "outputs": [
        {
          "output_type": "stream",
          "name": "stdout",
          "text": [
            "Time taken : 0.14442849159240723 \n"
          ]
        }
      ]
    },
    {
      "cell_type": "markdown",
      "source": [
        "Using Numpy Arrays, Repeat the calculation and measure and print the time taken for this\n",
        "operation."
      ],
      "metadata": {
        "id": "iDhIAfqY_O02"
      }
    },
    {
      "cell_type": "code",
      "source": [
        "import numpy as np\n",
        "import time\n",
        "\n",
        "A = np.arange(1, 1000001)\n",
        "B = np.arange(1, 1000001)\n",
        "\n",
        "start = time.time()\n",
        "\n",
        "dot = np.dot(A, B)\n",
        "\n",
        "end = time.time()\n",
        "\n",
        "print(f\"Time taken: {end - start} \")"
      ],
      "metadata": {
        "id": "KjX28NNm_RLG"
      },
      "execution_count": null,
      "outputs": []
    },
    {
      "cell_type": "markdown",
      "source": [
        "Matrix Multiplication\n",
        "• Using Python lists, perform matrix multiplication of two matrices of size 1000x1000. Measure\n",
        "and print the time taken for this operation."
      ],
      "metadata": {
        "id": "6Jg3fn4O_RdU"
      }
    },
    {
      "cell_type": "code",
      "source": [
        "import time\n",
        "\n",
        "A = [[i + j for j in range(1000)] for i in range(1000)]\n",
        "B = [[i - j for j in range(1000)] for i in range(1000)]\n",
        "\n",
        "start = time.time()\n",
        "\n",
        "dot_ = [[sum(A[i][k] * B[k][j] for k in range(1000)) for j in range(1000)] for i in range(1000)]\n",
        "\n",
        "end = time.time()\n",
        "\n",
        "print(f\"Time taken: {end - start}\")"
      ],
      "metadata": {
        "id": "uSqTdpYE_UTE"
      },
      "execution_count": null,
      "outputs": []
    },
    {
      "cell_type": "markdown",
      "source": [
        "Using NumPy arrays, perform matrix multiplication of two matrices of size 1000x1000. Mea-\n",
        "sure and print the time taken for this operation."
      ],
      "metadata": {
        "id": "JNS9B9Ax_Uyn"
      }
    },
    {
      "cell_type": "code",
      "source": [
        "import numpy as np\n",
        "import time\n",
        "\n",
        "A = np.random.rand(1000, 1000)\n",
        "B = np.random.rand(1000, 1000)\n",
        "\n",
        "start = time.time()\n",
        "\n",
        "dot = np.dot(A, B)\n",
        "\n",
        "end = time.time()\n",
        "\n",
        "print(f\"Time taken: {end - start} \")"
      ],
      "metadata": {
        "colab": {
          "base_uri": "https://localhost:8080/"
        },
        "id": "NmLdwdG2_W60",
        "outputId": "dc84b137-960e-4ef5-f65c-08355069674c"
      },
      "execution_count": 93,
      "outputs": [
        {
          "output_type": "stream",
          "name": "stdout",
          "text": [
            "Time taken: 0.06468081474304199 \n"
          ]
        }
      ]
    }
  ]
}