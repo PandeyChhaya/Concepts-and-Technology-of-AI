{
  "nbformat": 4,
  "nbformat_minor": 0,
  "metadata": {
    "colab": {
      "provenance": [],
      "authorship_tag": "ABX9TyOfyi/gk9gAWumqnMmi1xua",
      "include_colab_link": true
    },
    "kernelspec": {
      "name": "python3",
      "display_name": "Python 3"
    },
    "language_info": {
      "name": "python"
    }
  },
  "cells": [
    {
      "cell_type": "markdown",
      "metadata": {
        "id": "view-in-github",
        "colab_type": "text"
      },
      "source": [
        "<a href=\"https://colab.research.google.com/github/PandeyChhaya/Concepts-and-Technology-of-AI/blob/main/ChhayaPandeyWorksheet0.ipynb\" target=\"_parent\"><img src=\"https://colab.research.google.com/assets/colab-badge.svg\" alt=\"Open In Colab\"/></a>"
      ]
    },
    {
      "cell_type": "markdown",
      "source": [
        "Task 1. Classify Temperatures:\n",
        "1. Create empty lists for temperature classifications:\n",
        "\n",
        "(a) Cold: temperatures below 10°C.\n",
        "\n",
        "(b) Mild: temperatures between 10°C and 15°C.\n",
        "\n",
        "(c) Comfortable: temperatures between 15°C and 20°C."
      ],
      "metadata": {
        "id": "wACHhwKE36C-"
      }
    },
    {
      "cell_type": "code",
      "source": [
        "temperatures = [8.2, 17.4, 14.1, 7.9, 18.0, 13.5, 9.0, 17.8, 13.0, 8.5,\n",
        "                16.5, 12.9, 7.7, 17.2, 13.3, 8.4, 16.7, 14.0, 9.5, 18.3, 13.4,\n",
        "                8.1, 17.9, 14.2, 7.6, 17.0, 12.8, 8.0, 16.8, 13.7, 7.8, 17.5,\n",
        "                13.6, 8.7, 17.1, 13.8, 9.2, 18.1, 13.9, 8.3, 16.4, 12.7, 8.9,\n",
        "                18.2, 13.1, 7.8, 16.6, 12.5]\n",
        "cold = []\n",
        "mild = []\n",
        "comfortable = []\n",
        "\n"
      ],
      "metadata": {
        "id": "nT_Q9OGm48Xn"
      },
      "execution_count": null,
      "outputs": []
    },
    {
      "cell_type": "markdown",
      "source": [
        "2. Iterate over the temperatures list and add each temperature to the appropriate cate-\n",
        "gory."
      ],
      "metadata": {
        "id": "A_LSxkhg6Sja"
      }
    },
    {
      "cell_type": "code",
      "source": [
        "for eachTemperature in temperatures:\n",
        "    if eachTemperature < 10:\n",
        "        cold.append(eachTemperature)\n",
        "    elif 10 <= eachTemperature <= 15:\n",
        "        mild.append(eachTemperature)\n",
        "    elif 15 < eachTemperature <= 20:\n",
        "        comfortable.append(eachTemperature)\n",
        "\n"
      ],
      "metadata": {
        "id": "bUQpz3iX43Sn"
      },
      "execution_count": null,
      "outputs": []
    },
    {
      "cell_type": "markdown",
      "source": [
        "3. Print the lists to verify the classifications."
      ],
      "metadata": {
        "id": "iqZgwIVI6r0E"
      }
    },
    {
      "cell_type": "code",
      "source": [
        "print(\"Cold => below 10°C :\", cold)\n",
        "print(\"Mild => 10°C - 15°C:\", mild)\n",
        "print(\"Comfortable => 15°C - 20°C:\", comfortable)\n"
      ],
      "metadata": {
        "colab": {
          "base_uri": "https://localhost:8080/"
        },
        "id": "ZoFHE5pl6t3e",
        "outputId": "865bab81-f159-486e-d356-7806bbb08df4"
      },
      "execution_count": null,
      "outputs": [
        {
          "output_type": "stream",
          "name": "stdout",
          "text": [
            "Cold => below 10°C : [8.2, 7.9, 9.0, 8.5, 7.7, 8.4, 9.5, 8.1, 7.6, 8.0, 7.8, 8.7, 9.2, 8.3, 8.9, 7.8]\n",
            "Mild => 10°C - 15°C: [14.1, 13.5, 13.0, 12.9, 13.3, 14.0, 13.4, 14.2, 12.8, 13.7, 13.6, 13.8, 13.9, 12.7, 13.1, 12.5]\n",
            "Comfortable => 15°C - 20°C: [17.4, 18.0, 17.8, 16.5, 17.2, 16.7, 18.3, 17.9, 17.0, 16.8, 17.5, 17.1, 18.1, 16.4, 18.2, 16.6]\n"
          ]
        }
      ]
    },
    {
      "cell_type": "markdown",
      "source": [
        "Task 2. Based on Data - Answer all the Questions:\n",
        "1. How many times was it mild?"
      ],
      "metadata": {
        "id": "NJgTQlPz63J3"
      }
    },
    {
      "cell_type": "code",
      "source": [
        "mildAmount = len(mild)\n",
        "\n",
        "print(\"The amount of time it was mild was:\", mildAmount)\n"
      ],
      "metadata": {
        "colab": {
          "base_uri": "https://localhost:8080/"
        },
        "id": "uP7BJthR66IE",
        "outputId": "0f903c37-0310-42bc-8efb-8a2d89c09d51"
      },
      "execution_count": null,
      "outputs": [
        {
          "output_type": "stream",
          "name": "stdout",
          "text": [
            "The amount of time it was mild was: 16\n"
          ]
        }
      ]
    },
    {
      "cell_type": "markdown",
      "source": [
        "2. How many times was it comfortable?"
      ],
      "metadata": {
        "id": "Q2hkKweT7SIZ"
      }
    },
    {
      "cell_type": "code",
      "source": [
        "comfortableAmount= len(comfortable)\n",
        "print(\"The amount of times it was comfortable was\", comfortableAmount)"
      ],
      "metadata": {
        "colab": {
          "base_uri": "https://localhost:8080/"
        },
        "id": "dejJ3vWk7UcC",
        "outputId": "7d8496ac-2a74-4a39-e26c-eed995b48139"
      },
      "execution_count": null,
      "outputs": [
        {
          "output_type": "stream",
          "name": "stdout",
          "text": [
            "The amount of times it was comfortable was 16\n"
          ]
        }
      ]
    },
    {
      "cell_type": "markdown",
      "source": [
        "3. How many times was it cold?"
      ],
      "metadata": {
        "id": "bXj4VJ_A7i1a"
      }
    },
    {
      "cell_type": "code",
      "source": [
        "coldAmount= len(cold)\n",
        "print(\"The amount of times it was cold was\", coldAmount)"
      ],
      "metadata": {
        "colab": {
          "base_uri": "https://localhost:8080/"
        },
        "id": "arjb_pZM7kud",
        "outputId": "db52cbc0-0116-4ed7-9d6f-6ae6fcf6a3df"
      },
      "execution_count": null,
      "outputs": [
        {
          "output_type": "stream",
          "name": "stdout",
          "text": [
            "The amount of times it was cold was 16\n"
          ]
        }
      ]
    },
    {
      "cell_type": "markdown",
      "source": [
        "Task 3. Convert Temperatures from Celsius to Fahrenheit\n",
        "1. Iterate over the temperatures list and apply the formula to convert each temperature.\n",
        "2. Store the results in the new list.\n",
        "3. Print the converted Fahrenheit values."
      ],
      "metadata": {
        "id": "5YOsCJ9Q8J4Z"
      }
    },
    {
      "cell_type": "code",
      "source": [
        "fahrenheitTemperature = []\n",
        "for eachTemperature in temperatures:\n",
        "    fahrenheit = (eachTemperature * 9/5) + 32\n",
        "    fahrenheitTemperature.append(fahrenheit)\n",
        "\n",
        "print(fahrenheitTemperature)\n"
      ],
      "metadata": {
        "colab": {
          "base_uri": "https://localhost:8080/"
        },
        "id": "_JbCSKCu8NqE",
        "outputId": "3bf9ac47-6c84-433f-bf96-6e7f659194e9"
      },
      "execution_count": null,
      "outputs": [
        {
          "output_type": "stream",
          "name": "stdout",
          "text": [
            "[46.76, 63.32, 57.379999999999995, 46.22, 64.4, 56.3, 48.2, 64.04, 55.4, 47.3, 61.7, 55.22, 45.86, 62.959999999999994, 55.94, 47.120000000000005, 62.059999999999995, 57.2, 49.1, 64.94, 56.120000000000005, 46.58, 64.22, 57.56, 45.68, 62.6, 55.04, 46.4, 62.24, 56.66, 46.04, 63.5, 56.48, 47.66, 62.78, 56.84, 48.56, 64.58, 57.02, 46.94, 61.519999999999996, 54.86, 48.02, 64.75999999999999, 55.58, 46.04, 61.88, 54.5]\n"
          ]
        }
      ]
    },
    {
      "cell_type": "markdown",
      "source": [
        "Task 4. Analyze Temperature Patterns by Time of Day:\n",
        "Scenario: Each day’s readings are grouped as:\n",
        "• Night (00-08),\n",
        "• Evening (08-16),\n",
        "• Day (16-24).\n",
        "1. Create empty lists for night, day, and evening temperatures.\n",
        "2. Iterate over the temperatures list, assigning values to each time-of-day list based on\n",
        "their position.\n",
        "3. Calculate and print the average day-time temperature.\n",
        "4. (Optional) Plot ”day vs. temperature” using matplotlib."
      ],
      "metadata": {
        "id": "acViuqOo9Hg-"
      }
    },
    {
      "cell_type": "code",
      "source": [
        "import matplotlib.pyplot as plt\n",
        "\n",
        "night = []\n",
        "evening = []\n",
        "day = []\n",
        "\n",
        "\n",
        "for i in range(0, len(temperatures), 3):\n",
        "    night.append(temperatures[i])\n",
        "    evening.append(temperatures[i+1])\n",
        "    day.append(temperatures[i+2])\n",
        "\n",
        "\n",
        "averageDayTemperature = sum(day) / len(day)\n",
        "print(f\"Average Day-time Temperature is: {averageDayTemperature:.2f}°C\")\n",
        "\n",
        "plt.plot(range(len(day)), day, marker='o', color='b', label='Day-time Temperature')\n",
        "plt.xlabel('Day Number')\n",
        "plt.ylabel('Temperature (°C)')\n",
        "plt.title('Day vs. Temperature')\n",
        "plt.legend()\n",
        "plt.grid(True)\n",
        "plt.show()\n"
      ],
      "metadata": {
        "colab": {
          "base_uri": "https://localhost:8080/",
          "height": 490
        },
        "id": "1L-_Wj7z9SfT",
        "outputId": "7a59454c-27cb-4f86-85ef-cec99b991f0d"
      },
      "execution_count": null,
      "outputs": [
        {
          "output_type": "stream",
          "name": "stdout",
          "text": [
            "Average Day-time Temperature is: 13.41°C\n"
          ]
        },
        {
          "output_type": "display_data",
          "data": {
            "text/plain": [
              "<Figure size 640x480 with 1 Axes>"
            ],
            "image/png": "[encoded data removed]"
          },
          "metadata": {}
        }
      ]
    },
    {
      "cell_type": "markdown",
      "source": [
        "8.1.1 Exercise - Recursion:\n",
        "\n",
        "Task 1 - Sum of Nested Lists:\n",
        "Scenario: You have a list that contains numbers and other lists of numbers (nested lists).\n",
        "You want to find the total sum of all the numbers in this structure.\n",
        "\n",
        "Task:\n",
        "\n",
        "• Write a recursive function sum_nested_list(nested_list) that:\n",
        "1. Takes a nested list (a list that can contain numbers or other lists of numbers) as\n",
        "input.\n",
        "2. Sums all numbers at every depth level of the list, regardless of how deeply nested\n",
        "the numbers are.\n",
        "\n",
        "• Test the function with a sample nested list, such as\n",
        "nested_list = [1, [2, [3, 4], 5], 6, [7, 8]].\n",
        "The result should be the total sum of all the numbers."
      ],
      "metadata": {
        "id": "A-eRoGmOsLCf"
      }
    },
    {
      "cell_type": "code",
      "source": [
        "def sum_nested_list(nested_list):\n",
        "    total = 0\n",
        "    for element in nested_list:\n",
        "        if isinstance(element, list):\n",
        "            total += sum_nested_list(element)\n",
        "        else:\n",
        "            total += element\n",
        "    return total\n",
        "\n",
        "nested_list = [1, [2, [3, 4], 5], 6, [7, 8]]\n",
        "result = sum_nested_list(nested_list)\n",
        "print(f\"Total sum of all numbers in the nested list is : {result}\")"
      ],
      "metadata": {
        "id": "prNL4DgMkMBi",
        "colab": {
          "base_uri": "https://localhost:8080/"
        },
        "outputId": "a25cdd95-9bba-4bb3-c386-09ab9ce2d325"
      },
      "execution_count": null,
      "outputs": [
        {
          "output_type": "stream",
          "name": "stdout",
          "text": [
            "Total sum of all numbers in the nested list is : 36\n"
          ]
        }
      ]
    },
    {
      "cell_type": "markdown",
      "source": [
        "\n",
        "\n",
        "Task 2 - Generate All Permutations of a String:\n",
        "\n",
        "Scenario: Given a string, generate all possible permutations of its characters. This is useful for understanding backtracking and recursive depth-first search.\n",
        "\n",
        " Task: • Write a recursive function generate_permutations(s) that: – Takes a string s as input and returns a list of all unique permutations.\n",
        "\n",
        " • Test with strings like ”abc” and ”aab”.\n",
        "\n",
        "print(generate_permutations(\"abc\"))\n",
        "\n",
        "Should return [’abc’, ’acb’, ’bac’, ’bca’, ’cab’, ’cba’]\n"
      ],
      "metadata": {
        "id": "hsqquPEISxUk"
      }
    },
    {
      "cell_type": "code",
      "source": [
        "def generate_permutations(s):\n",
        "    def permute(prefix, remaining, results):\n",
        "        if not remaining:\n",
        "            results.add(prefix)\n",
        "        else:\n",
        "            for i in range(len(remaining)):\n",
        "                permute(prefix + remaining[i], remaining[:i] + remaining[i+1:], results)\n",
        "\n",
        "    results = set()\n",
        "    permute(\"\", s, results)\n",
        "    return sorted(results)\n",
        "\n",
        "print(generate_permutations(\"chh\"))\n",
        "print(generate_permutations(\"aya\"))"
      ],
      "metadata": {
        "colab": {
          "base_uri": "https://localhost:8080/"
        },
        "id": "OeM15HIoUsQE",
        "outputId": "f4240278-baae-4ea8-e597-9e311ab7e43c"
      },
      "execution_count": null,
      "outputs": [
        {
          "output_type": "stream",
          "name": "stdout",
          "text": [
            "['chh', 'hch', 'hhc']\n",
            "['aay', 'aya', 'yaa']\n"
          ]
        }
      ]
    },
    {
      "cell_type": "markdown",
      "source": [
        "Task 3 - Directory Size Calculation:\n",
        "\n",
        " Directory Size Calculation Scenario:\n",
        "\n",
        "  Imagine a file system where directories can contain files (with sizes in KB) and other directories. You want to calculate the total size of a directory, including all nested files and subdirectories."
      ],
      "metadata": {
        "id": "XH6TD2wqVEgL"
      }
    },
    {
      "cell_type": "code",
      "source": [
        "\n",
        "def calculate_directory_size(directory):\n",
        "    total_size = 0\n",
        "    for item in directory:\n",
        "        if isinstance(item, dict):\n",
        "            for subdirectory, contents in item.items():\n",
        "                total_size += calculate_directory_size(contents)\n",
        "        else:\n",
        "            total_size += item\n",
        "    return total_size\n",
        "\n",
        "directory = [\n",
        "    100,\n",
        "    {\"subdir1\": [200, 300]},\n",
        "    {\"subdir2\": [50, {\"subsubdir\": [25, 75]}]},\n",
        "]\n",
        "\n",
        "total_size = calculate_directory_size(directory)\n",
        "print(f\"Total size of directory: {total_size} KB\")"
      ],
      "metadata": {
        "colab": {
          "base_uri": "https://localhost:8080/"
        },
        "id": "biJX5urAVN6s",
        "outputId": "f88d7816-762b-43a8-fd57-0b22278dc903"
      },
      "execution_count": null,
      "outputs": [
        {
          "output_type": "stream",
          "name": "stdout",
          "text": [
            "Total size of directory: 750 KB\n"
          ]
        }
      ]
    },
    {
      "cell_type": "markdown",
      "source": [
        "\n",
        "\n",
        "8.2.2 Exercises - Dynamic Programming:\n",
        "\n",
        "Task 1 - Coin Change Problem: Scenario: Given a set of coin denominations and a target amount, find the minimum number of coins needed to make the amount. If it’s not possible, return - 1. Task:\n",
        "\n",
        "    1. Write a function min_coins(coins, amount) that: • Uses DP to calculate the minimum number of coins needed to make up the amount.\n",
        "    2. Test with coins = [1, 2, 5] and amount = 11. The result should be 3 (using coins [5, 5, 1]).\n",
        "\n"
      ],
      "metadata": {
        "id": "qx2MJTuOVled"
      }
    },
    {
      "cell_type": "code",
      "source": [
        "\n",
        "def min_coins(coins, amount):\n",
        "    dp = [float('inf')] * (amount + 1)\n",
        "    dp[0] = 0\n",
        "    for coin in coins:\n",
        "        for i in range(coin, amount + 1):\n",
        "            dp[i] = min(dp[i], dp[i - coin] + 1)\n",
        "    return dp[amount] if dp[amount] != float('inf') else -1\n",
        "\n",
        "coins = [1, 2, 5]\n",
        "amount = 11\n",
        "result = min_coins(coins, amount)\n",
        "print(result)\n"
      ],
      "metadata": {
        "colab": {
          "base_uri": "https://localhost:8080/"
        },
        "id": "8_uyZEUBVypF",
        "outputId": "e2cdb78c-16d1-45de-98e7-a8c773cc9a8c"
      },
      "execution_count": null,
      "outputs": [
        {
          "output_type": "stream",
          "name": "stdout",
          "text": [
            "3\n"
          ]
        }
      ]
    },
    {
      "cell_type": "markdown",
      "source": [
        "\n",
        "\n",
        "Task 2 - Longest Common Subsequence (LCS): Scenario: Given two strings, find the length of their longest common subsequence (LCS). This is useful in text comparison. Task:\n",
        "\n",
        "    1. Write a function longest_common_subsequence(s1, s2) that: • Uses DP to find the length of the LCS of two strings s1 and s2.\n",
        "    2. Test with strings like \"abcde\" and \"ace\"; the LCS length should be 3 (\"ace\").\n",
        "\n"
      ],
      "metadata": {
        "id": "ubr2N2lsV5sX"
      }
    },
    {
      "cell_type": "code",
      "source": [
        "def longest_common_subsequence(s1, s2):\n",
        "    m, n = len(s1), len(s2)\n",
        "    dp = [[0] * (n + 1) for _ in range(m + 1)]\n",
        "    for i in range(1, m + 1):\n",
        "        for j in range(1, n + 1):\n",
        "            if s1[i - 1] == s2[j - 1]:\n",
        "                dp[i][j] = dp[i - 1][j - 1] + 1\n",
        "            else:\n",
        "                dp[i][j] = max(dp[i - 1][j], dp[i][j - 1])\n",
        "    return dp[m][n]\n",
        "\n",
        "s1 = \"abcde\"\n",
        "s2 = \"ace\"\n",
        "result = longest_common_subsequence(s1, s2)\n",
        "print(result)\n"
      ],
      "metadata": {
        "colab": {
          "base_uri": "https://localhost:8080/"
        },
        "id": "tqQ2ZmyPV-EN",
        "outputId": "fe0bf4e4-e42c-4862-d9f6-21b1556465ac"
      },
      "execution_count": null,
      "outputs": [
        {
          "output_type": "stream",
          "name": "stdout",
          "text": [
            "3\n"
          ]
        }
      ]
    },
    {
      "cell_type": "markdown",
      "source": [
        "\n",
        "\n",
        "Task 3 - 0/1 Knapsack Problem: Scenario: You have a list of items, each with a weight and a value. Given a weight capacity, maximize the total value of items you can carry without exceeding the weight capacity. Task:\n",
        "\n",
        "   1. Write a function knapsack(weights, values, capacity) that: • Uses DP to determine the maximum value that can be achieved within the given weight capacity.\n",
        "\n",
        "    2. Test with weights [1, 3, 4, 5], values [1, 4, 5, 7], and capacity 7. The re- sult should be 9.\n",
        "\n"
      ],
      "metadata": {
        "id": "yDsjyO-6WCH1"
      }
    },
    {
      "cell_type": "code",
      "source": [
        "def knapsack(weights, values, capacity):\n",
        "    dp = [0] * (capacity + 1)\n",
        "    for i in range(len(weights)):\n",
        "        for w in range(capacity, weights[i] - 1, -1):\n",
        "            dp[w] = max(dp[w], dp[w - weights[i]] + values[i])\n",
        "    return dp[capacity]\n",
        "\n",
        "weights = [1, 3, 4, 5]\n",
        "values = [1, 4, 5, 7]\n",
        "capacity = 7\n",
        "result = knapsack(weights, values, capacity)\n",
        "print(result)"
      ],
      "metadata": {
        "id": "StzGNr-gWF9-",
        "outputId": "144cec82-0424-4cb3-907f-4047b944bfc8",
        "colab": {
          "base_uri": "https://localhost:8080/"
        }
      },
      "execution_count": null,
      "outputs": [
        {
          "output_type": "stream",
          "name": "stdout",
          "text": [
            "9\n"
          ]
        }
      ]
    }
  ]
}